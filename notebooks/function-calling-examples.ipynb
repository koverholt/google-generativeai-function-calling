{
 "cells": [
  {
   "cell_type": "code",
   "execution_count": null,
   "id": "38e13d79-de37-41a3-8aaf-c6e50073dd88",
   "metadata": {},
   "outputs": [],
   "source": [
    "!pip install google-generativeai requests youtube-transcript-api"
   ]
  },
  {
   "cell_type": "code",
   "execution_count": 37,
   "id": "ed5f1b2d-c9ee-4cc6-a15f-d3f8e0b45f2e",
   "metadata": {},
   "outputs": [],
   "source": [
    "import os\n",
    "from IPython.display import display, Markdown\n",
    "from youtube_transcript_api import YouTubeTranscriptApi\n",
    "import google.generativeai as genai"
   ]
  },
  {
   "cell_type": "code",
   "execution_count": 9,
   "id": "851e1e76-1872-4ca5-98a8-a921a87ea3e3",
   "metadata": {},
   "outputs": [],
   "source": [
    "GOOGLE_API_KEY = os.environ['GOOGLE_API_KEY']\n",
    "genai.configure(api_key=GOOGLE_API_KEY)"
   ]
  },
  {
   "cell_type": "markdown",
   "id": "95ab226d-28b4-4b51-9c5e-8ceaaa531b61",
   "metadata": {},
   "source": [
    "## Example function: Multiply two numbers"
   ]
  },
  {
   "cell_type": "code",
   "execution_count": 15,
   "id": "8ff5c98a-b08e-4fe2-a346-2b25fd6dd47e",
   "metadata": {},
   "outputs": [],
   "source": [
    "def multiply(a:float, b:float):\n",
    "    \"\"\"returns a * b.\"\"\"\n",
    "    return a*b"
   ]
  },
  {
   "cell_type": "code",
   "execution_count": 16,
   "id": "6bb9e33d-1487-4c12-a736-a376c18a7f32",
   "metadata": {},
   "outputs": [],
   "source": [
    "model = genai.GenerativeModel(model_name='gemini-1.0-pro', tools=[multiply])\n",
    "chat = model.start_chat(enable_automatic_function_calling=True)"
   ]
  },
  {
   "cell_type": "code",
   "execution_count": 17,
   "id": "9cbbd71e-a106-4678-b9de-6e6613cb9af8",
   "metadata": {},
   "outputs": [
    {
     "data": {
      "text/plain": [
       "'The total number of mittens is 2508.'"
      ]
     },
     "execution_count": 17,
     "metadata": {},
     "output_type": "execute_result"
    }
   ],
   "source": [
    "response = chat.send_message('I have 57 cats, each owns 44 mittens, how many mittens is that in total?')\n",
    "response.text"
   ]
  },
  {
   "cell_type": "code",
   "execution_count": 18,
   "id": "4dbcd282-26c5-4408-8f8c-2b926c7b99b8",
   "metadata": {},
   "outputs": [
    {
     "name": "stdout",
     "output_type": "stream",
     "text": [
      "user -> {'text': 'I have 57 cats, each owns 44 mittens, how many mittens is that in total?'}\n",
      "--------------------------------------------------------------------------------\n",
      "model -> {'function_call': {'name': 'multiply', 'args': {'a': 57.0, 'b': 44.0}}}\n",
      "--------------------------------------------------------------------------------\n",
      "user -> {'function_response': {'name': 'multiply', 'response': {'result': 2508.0}}}\n",
      "--------------------------------------------------------------------------------\n",
      "model -> {'text': 'The total number of mittens is 2508.'}\n",
      "--------------------------------------------------------------------------------\n"
     ]
    }
   ],
   "source": [
    "for content in chat.history:\n",
    "    part = content.parts[0]\n",
    "    print(content.role, \"->\", type(part).to_dict(part))\n",
    "    print('-'*80)"
   ]
  },
  {
   "cell_type": "markdown",
   "id": "5143e8d5-af22-405c-977e-70ace241b494",
   "metadata": {},
   "source": [
    "## Example function: Get currency rates"
   ]
  },
  {
   "cell_type": "code",
   "execution_count": 40,
   "id": "ecc1ae78-a34c-483e-8d36-b25190221ba8",
   "metadata": {},
   "outputs": [],
   "source": [
    "import requests\n",
    "\n",
    "def get_exchange_rate(\n",
    "    currency_from: str = \"USD\",\n",
    "    currency_to: str = \"EUR\",\n",
    "    currency_date: str = \"latest\",\n",
    "):\n",
    "    \"\"\"Retrieves the exchange rate between two currencies on a specified date.\n",
    "\n",
    "    Uses the Frankfurter API (https://api.frankfurter.app/) to obtain exchange rate data.\n",
    "\n",
    "    Args:\n",
    "        currency_from: The base currency (3-letter currency code). Defaults to \"USD\" (US Dollar).\n",
    "        currency_to: The target currency (3-letter currency code). Defaults to \"EUR\" (Euro).\n",
    "        currency_date: The date for which to retrieve the exchange rate. Defaults to \"latest\"\n",
    "            for the most recent exchange rate data. Can be specified in YYYY-MM-DD format for\n",
    "            historical rates.\n",
    "\n",
    "    Returns:\n",
    "        dict: A dictionary containing the exchange rate information.\n",
    "              Example: {\"amount\": 1.0, \"base\": \"USD\", \"date\": \"2023-11-24\", \"rates\": {\"EUR\": 0.95534}}\n",
    "    \"\"\"\n",
    "    response = requests.get(\n",
    "        f\"https://api.frankfurter.app/{currency_date}\",\n",
    "        params={\"from\": currency_from, \"to\": currency_to},\n",
    "    )\n",
    "    return response.json()"
   ]
  },
  {
   "cell_type": "code",
   "execution_count": 41,
   "id": "7548ed92-4071-4404-b7f6-b46e6d70fa98",
   "metadata": {},
   "outputs": [],
   "source": [
    "model = genai.GenerativeModel(model_name='gemini-1.0-pro', tools=[get_exchange_rate])\n",
    "chat = model.start_chat(enable_automatic_function_calling=True)"
   ]
  },
  {
   "cell_type": "code",
   "execution_count": 42,
   "id": "a4161741-ff51-440a-950f-2533727cbe64",
   "metadata": {},
   "outputs": [
    {
     "data": {
      "text/markdown": [
       "OK. On February 1, 2023, 1 US Dollar was equivalent to 10.4144 Swedish Krona."
      ],
      "text/plain": [
       "<IPython.core.display.Markdown object>"
      ]
     },
     "metadata": {},
     "output_type": "display_data"
    }
   ],
   "source": [
    "response = chat.send_message(\"What was the exchange rate from US Dollars to Swedish currency as of Feb 1, 2023?\")\n",
    "display(Markdown(response.text))"
   ]
  },
  {
   "cell_type": "code",
   "execution_count": 43,
   "id": "efec67a3-47bd-41a4-a312-fc7e4bede561",
   "metadata": {},
   "outputs": [
    {
     "name": "stdout",
     "output_type": "stream",
     "text": [
      "user -> {'text': 'What was the exchange rate from US Dollars to Swedish currency as of Feb 1, 2023?'}\n",
      "--------------------------------------------------------------------------------\n",
      "model -> {'function_call': {'name': 'get_exchange_rate', 'args': {'currency_from': 'USD', 'currency_date': '2023-02-01', 'currency_to': 'SEK'}}}\n",
      "--------------------------------------------------------------------------------\n",
      "user -> {'function_response': {'name': 'get_exchange_rate', 'response': {'rates': {'SEK': 10.4144}, 'date': '2023-02-01', 'base': 'USD', 'amount': 1.0}}}\n",
      "--------------------------------------------------------------------------------\n",
      "model -> {'text': 'OK. On February 1, 2023, 1 US Dollar was equivalent to 10.4144 Swedish Krona.'}\n",
      "--------------------------------------------------------------------------------\n"
     ]
    }
   ],
   "source": [
    "for content in chat.history:\n",
    "    part = content.parts[0]\n",
    "    print(content.role, \"->\", type(part).to_dict(part))\n",
    "    print('-'*80)"
   ]
  },
  {
   "cell_type": "markdown",
   "id": "df3c2227-b1a5-49fc-b11f-cafc57123bea",
   "metadata": {},
   "source": [
    "## Example function: Question and answer on YouTube transcripts"
   ]
  },
  {
   "cell_type": "code",
   "execution_count": 29,
   "id": "7a704d70-1829-4d08-8b2f-22eb08522364",
   "metadata": {},
   "outputs": [],
   "source": [
    "def get_youtube_transcript(video_id: str) -> str:\n",
    "    \"\"\"Get the subtitles or transcript for a given YouTube video.\n",
    "\n",
    "    Args:\n",
    "        video_id (str): The YouTube video ID\n",
    "\n",
    "    Returns:\n",
    "        str: Subtitles or transcript of the YouTube video\n",
    "    \"\"\"\n",
    "\n",
    "    response = YouTubeTranscriptApi.get_transcript(video_id)\n",
    "    return response"
   ]
  },
  {
   "cell_type": "code",
   "execution_count": 30,
   "id": "d84f9ea4-dcc1-43bf-9849-d05d94cde8c4",
   "metadata": {},
   "outputs": [],
   "source": [
    "model = genai.GenerativeModel(model_name='gemini-1.0-pro', tools=[get_youtube_transcript])\n",
    "chat = model.start_chat(enable_automatic_function_calling=True)"
   ]
  },
  {
   "cell_type": "code",
   "execution_count": 39,
   "id": "f6912a3a-c390-45b9-ac28-44a4edc4ca5e",
   "metadata": {},
   "outputs": [
    {
     "data": {
      "text/markdown": [
       "**Goalscorers:**\n",
       "\n",
       "* **Marcus Rashford** (Manchester United) - 14th minute\n",
       "* **Scott McTominay** (Manchester United) - 29th minute\n",
       "* **Anthony** (Manchester United) - 73rd minute\n",
       "\n",
       "**Teams:**\n",
       "\n",
       "* **Manchester United**\n",
       "* **Liverpool**"
      ],
      "text/plain": [
       "<IPython.core.display.Markdown object>"
      ]
     },
     "metadata": {},
     "output_type": "display_data"
    }
   ],
   "source": [
    "response = chat.send_message(\"Based on this highlights video, which players and teams scored the goals during this game? https://www.youtube.com/watch?v=IGQ5TnRv6dg\")\n",
    "display(Markdown(response.text))"
   ]
  },
  {
   "cell_type": "markdown",
   "id": "1229609a-2dff-45ef-a22b-425e09a14455",
   "metadata": {},
   "source": [
    "## Example function: Pass parameters to other APIs with lower level `FunctionDeclaration` API"
   ]
  },
  {
   "cell_type": "code",
   "execution_count": 45,
   "id": "c4aa8f7d-d60f-4f4e-b48c-5944b3f56bf3",
   "metadata": {},
   "outputs": [],
   "source": [
    "import google.ai.generativelanguage as glm"
   ]
  },
  {
   "cell_type": "code",
   "execution_count": 62,
   "id": "84de861c-eb68-409f-bd61-2df1f700116e",
   "metadata": {},
   "outputs": [],
   "source": [
    "set_qos_priority = glm.Tool(\n",
    "    function_declarations=[\n",
    "      glm.FunctionDeclaration(\n",
    "        name='set_qos_priority',\n",
    "        description=\"Set the QoS priority for a given network service\",\n",
    "        parameters=glm.Schema(\n",
    "            type=glm.Type.OBJECT,\n",
    "            properties={\n",
    "                'app_name':glm.Schema(type=glm.Type.STRING),\n",
    "                'priority':glm.Schema(type=glm.Type.STRING),\n",
    "                'ports':glm.Schema(type=glm.Type.NUMBER)\n",
    "            },\n",
    "            required=['app_name','priority','ports']\n",
    "        )\n",
    "      )\n",
    "    ])"
   ]
  },
  {
   "cell_type": "code",
   "execution_count": 63,
   "id": "d23959c5-cef7-4cc0-9511-3b79de62e547",
   "metadata": {},
   "outputs": [],
   "source": [
    "model = genai.GenerativeModel(model_name='gemini-1.0-pro', tools=[set_qos_priority])\n",
    "chat = model.start_chat(enable_automatic_function_calling=False)"
   ]
  },
  {
   "cell_type": "code",
   "execution_count": 81,
   "id": "f1a3654b-5b62-42f2-8b09-43edb0d37865",
   "metadata": {},
   "outputs": [
    {
     "data": {
      "text/plain": [
       "parts {\n",
       "  function_call {\n",
       "    name: \"set_qos_priority\"\n",
       "    args {\n",
       "      fields {\n",
       "        key: \"priority\"\n",
       "        value {\n",
       "          string_value: \"High\"\n",
       "        }\n",
       "      }\n",
       "      fields {\n",
       "        key: \"ports\"\n",
       "        value {\n",
       "          string_value: \"6881\"\n",
       "        }\n",
       "      }\n",
       "      fields {\n",
       "        key: \"app_name\"\n",
       "        value {\n",
       "          string_value: \"Linux ISO downloads\"\n",
       "        }\n",
       "      }\n",
       "    }\n",
       "  }\n",
       "}\n",
       "role: \"model\""
      ]
     },
     "execution_count": 81,
     "metadata": {},
     "output_type": "execute_result"
    }
   ],
   "source": [
    "response = chat.send_message(\"Prescence detection has determined that that user has left home now, please prioritize QoS for Linux ISO downloads on default BitTorrent ports 6881\")\n",
    "response.candidates[0].content"
   ]
  },
  {
   "cell_type": "code",
   "execution_count": 82,
   "id": "ac2743fc-d54b-4e5a-8345-aaa552dcfd01",
   "metadata": {},
   "outputs": [
    {
     "data": {
      "text/plain": [
       "'set_qos_priority'"
      ]
     },
     "execution_count": 82,
     "metadata": {},
     "output_type": "execute_result"
    }
   ],
   "source": [
    "PREDICTED_FUNCTION_NAME = response.candidates[0].content.parts[0].function_call.name\n",
    "PREDICTED_FUNCTION_NAME"
   ]
  },
  {
   "cell_type": "code",
   "execution_count": 83,
   "id": "b8ad00f8-0951-4fc4-bfbb-44e694a158e1",
   "metadata": {},
   "outputs": [
    {
     "data": {
      "text/plain": [
       "{'ports': '6881', 'app_name': 'Linux ISO downloads', 'priority': 'High'}"
      ]
     },
     "execution_count": 83,
     "metadata": {},
     "output_type": "execute_result"
    }
   ],
   "source": [
    "PREDICTED_ARGS = {}\n",
    "for key, value in response.candidates[0].content.parts[0].function_call.args.items():\n",
    "    PREDICTED_ARGS[key] = value\n",
    "PREDICTED_ARGS"
   ]
  },
  {
   "cell_type": "code",
   "execution_count": 89,
   "id": "4374604c-357e-4058-abe6-b5d1825308d0",
   "metadata": {},
   "outputs": [
    {
     "name": "stdout",
     "output_type": "stream",
     "text": [
      "Adjusting QoS priority for: Linux ISO downloads\n",
      "Adjusting QoS priority to: High\n",
      "Adjusting QoS priority for ports: 6881\n"
     ]
    }
   ],
   "source": [
    "# Now you can call ANY function or API in Python with requests or the library of your choice, as in\n",
    "\n",
    "if PREDICTED_FUNCTION_NAME == \"set_qos_priority\":\n",
    "    print(f\"Adjusting QoS priority for: {PREDICTED_ARGS['app_name']}\")\n",
    "    print(f\"Adjusting QoS priority to: {PREDICTED_ARGS['priority']}\")\n",
    "    print(f\"Adjusting QoS priority for ports: {PREDICTED_ARGS['ports']}\")\n",
    "    \n",
    "    # Example API calling code\n",
    "    # response = requests.get(\n",
    "    #     f\"https://api.my-router.com/\",\n",
    "    #     params={\"ports\": PREDICTED_ARGS['ports'], \"priority\": PREDICTED_ARGS['priority']},\n",
    "    # )\n",
    "    # return response.json()"
   ]
  }
 ],
 "metadata": {
  "kernelspec": {
   "display_name": "Python 3 (ipykernel)",
   "language": "python",
   "name": "python3"
  },
  "language_info": {
   "codemirror_mode": {
    "name": "ipython",
    "version": 3
   },
   "file_extension": ".py",
   "mimetype": "text/x-python",
   "name": "python",
   "nbconvert_exporter": "python",
   "pygments_lexer": "ipython3",
   "version": "3.11.6"
  }
 },
 "nbformat": 4,
 "nbformat_minor": 5
}
